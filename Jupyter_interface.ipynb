{
 "cells": [
  {
   "cell_type": "markdown",
   "metadata": {},
   "source": [
    "# Interface for using the BoxCar library with Jupyter notebooks\n",
    "\n",
    "This interface calls the functions in the numerics_boxcar.py library, to construct the IJ diagrams, as well as building the optimal boxcars"
   ]
  },
  {
   "cell_type": "code",
   "execution_count": 1,
   "metadata": {},
   "outputs": [],
   "source": [
    "import numpy as np\n",
    "import matplotlib.pyplot as plt\n",
    "from numerics_boxcar import *"
   ]
  },
  {
   "cell_type": "markdown",
   "metadata": {},
   "source": [
    "The code works by first defining a set $(T_L, T_R, \\mu_L, \\mu_R)$ and then calling the \"Structure\" function. This will load some functions that will make the calculation of the boxcars easier.\n",
    "\n",
    "The last argument to \"Structure\" is the overall precision desired."
   ]
  },
  {
   "cell_type": "code",
   "execution_count": 7,
   "metadata": {},
   "outputs": [],
   "source": [
    "bl = 1/1.0\n",
    "br = 1/0.2\n",
    "ml = 0.1\n",
    "mr = 0.6\n",
    "S = Structure(br, bl, mr, ml, 10**(-7)) "
   ]
  },
  {
   "cell_type": "markdown",
   "metadata": {},
   "source": [
    "#### I,J plane\n",
    "The boundaries in the IJ plane (e.g. Fig. 2(a)) can now be obtained as"
   ]
  },
  {
   "cell_type": "code",
   "execution_count": 3,
   "metadata": {},
   "outputs": [],
   "source": [
    "boundary = S.get_IJ_extreme(10**-4)"
   ]
  },
  {
   "cell_type": "markdown",
   "metadata": {},
   "source": [
    "Output is a list, with entries 0,1,2 being $I, J, \\Delta_I^2$ in one boundary, and 3,4,5 being $I,J,\\Delta_I^2$ in the other. "
   ]
  },
  {
   "cell_type": "code",
   "execution_count": 10,
   "metadata": {},
   "outputs": [
    {
     "data": {
      "image/png": "[encoded data removed]",
      "text/plain": [
       "<Figure size 432x288 with 1 Axes>"
      ]
     },
     "metadata": {
      "needs_background": "light"
     },
     "output_type": "display_data"
    }
   ],
   "source": [
    "plt.plot(boundary[0], boundary[1])\n",
    "plt.plot(boundary[3], boundary[4])\n",
    "plt.xlabel('I')\n",
    "plt.ylabel('J')\n",
    "plt.show()"
   ]
  },
  {
   "cell_type": "markdown",
   "metadata": {},
   "source": [
    "### Finding the boxcar\n",
    "For a given $(T_L, T_R, \\mu_L, \\mu_R)$, given any $I,J$ within the boundaries above, we can now compute the associated optimal boxcar.\n",
    "\n",
    "This is done by calling S.boxcar_sol(I,J,tol), where tol is the overall precision. \n",
    "\n",
    "The output is the values of $\\lambda$, $\\eta$ [Eq. (5) of th emain text] and the boxcar list."
   ]
  },
  {
   "cell_type": "code",
   "execution_count": 12,
   "metadata": {},
   "outputs": [
    {
     "name": "stdout",
     "output_type": "stream",
     "text": [
      "0.42879877568210967 -0.29468236696305505\n",
      "[(-18.804223285290295, -1.1144247572582886), (2.8845273062918455, 19.004223285290298)]\n"
     ]
    }
   ],
   "source": [
    "I = -0.2\n",
    "J = 0.8\n",
    "lam, eta, box = S.boxcar_solve(I, J, 10**-3)\n",
    "print(lam,eta)\n",
    "print(box)"
   ]
  },
  {
   "cell_type": "markdown",
   "metadata": {},
   "source": [
    "We can make a plot of the boxcar using the following snippet of code:"
   ]
  },
  {
   "cell_type": "code",
   "execution_count": 15,
   "metadata": {},
   "outputs": [
    {
     "data": {
      "image/png": "[encoded data removed]",
      "text/plain": [
       "<Figure size 432x288 with 1 Axes>"
      ]
     },
     "metadata": {
      "needs_background": "light"
     },
     "output_type": "display_data"
    }
   ],
   "source": [
    "xbox = np.array([S.region[0]] + [box[i//4][(i%4)//2] for i in range(4*len(box))] + [S.region[1]])\n",
    "ybox = np.array([0]+([0., 1., 1., 0.]*len(box)) + [0])\n",
    "plt.plot(xbox, ybox)\n",
    "plt.show()"
   ]
  },
  {
   "cell_type": "code",
   "execution_count": null,
   "metadata": {},
   "outputs": [],
   "source": []
  }
 ],
 "metadata": {
  "kernelspec": {
   "display_name": "Python 3",
   "language": "python",
   "name": "python3"
  },
  "language_info": {
   "codemirror_mode": {
    "name": "ipython",
    "version": 3
   },
   "file_extension": ".py",
   "mimetype": "text/x-python",
   "name": "python",
   "nbconvert_exporter": "python",
   "pygments_lexer": "ipython3",
   "version": "3.7.4"
  }
 },
 "nbformat": 4,
 "nbformat_minor": 4
}
